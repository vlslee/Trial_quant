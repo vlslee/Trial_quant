{
 "cells": [
  {
   "cell_type": "markdown",
   "metadata": {},
   "source": [
    "# Quant project"
   ]
  },
  {
   "cell_type": "markdown",
   "metadata": {},
   "source": [
    "### 数据加载"
   ]
  },
  {
   "cell_type": "code",
   "execution_count": 1,
   "metadata": {},
   "outputs": [],
   "source": [
    "import baostock as bs\n",
    "import pandas as pd\n",
    "import numpy as np\n",
    "import matplotlib.pyplot as plt\n",
    "%matplotlib inline"
   ]
  },
  {
   "cell_type": "markdown",
   "metadata": {},
   "source": [
    "baostack文档：http://baostock.com/baostock/index.php/%E9%A6%96%E9%A1%B5   # 只支持python 3.5以上、需要翻墙"
   ]
  },
  {
   "cell_type": "code",
   "execution_count": 2,
   "metadata": {},
   "outputs": [],
   "source": [
    "# 规模指数，例如：sh.000016 上证50，sh.000300 沪深300，sh.000905 中证500，sz.399001 深证成指等；\n",
    "ZSNAME = 'sh.000300'\n",
    "# Baostock 从 2006-01-04\n",
    "SD = '2006-01-01'\n",
    "# 导出的文件形式\n",
    "SAVENAME = ZSNAME+'_'+SD+'.csv'"
   ]
  },
  {
   "cell_type": "code",
   "execution_count": 3,
   "metadata": {},
   "outputs": [
    {
     "name": "stdout",
     "output_type": "stream",
     "text": [
      "login success!\n",
      "login respond error_code:0\n",
      "login respond  error_msg:success\n",
      "query_history_k_data respond error_code:0\n",
      "query_history_k_data respond  error_msg:success\n",
      "logout success!\n"
     ]
    },
    {
     "data": {
      "text/plain": [
       "<baostock.data.resultset.ResultData at 0x10e239860>"
      ]
     },
     "execution_count": 3,
     "metadata": {},
     "output_type": "execute_result"
    }
   ],
   "source": [
    "#### 更新数据 ####\n",
    "#### baostock登陆系统 ####\n",
    "lg = bs.login()\n",
    "# 显示登陆返回信息\n",
    "print('login respond error_code:'+lg.error_code)\n",
    "print('login respond  error_msg:'+lg.error_msg)\n",
    "\n",
    "#### 获取历史K线数据 ####\n",
    "rs = bs.query_history_k_data(ZSNAME,\n",
    "    \"date,code,open,high,low,close,preclose,volume,amount,adjustflag,turn,tradestatus,pctChg,isST\",\n",
    "    start_date= SD,\n",
    "    frequency=\"d\", adjustflag=\"3\")\n",
    "print('query_history_k_data respond error_code:'+rs.error_code)\n",
    "print('query_history_k_data respond  error_msg:'+rs.error_msg)\n",
    "\n",
    "#### 打印结果集 ####\n",
    "data_list = []\n",
    "while (rs.error_code == '0') & rs.next():\n",
    "    # 获取一条记录，将记录合并在一起\n",
    "    data_list.append(rs.get_row_data())\n",
    "KL = pd.DataFrame(data_list, columns=rs.fields)\n",
    "\n",
    "#### 登出系统 ####\n",
    "bs.logout()"
   ]
  },
  {
   "cell_type": "code",
   "execution_count": 4,
   "metadata": {},
   "outputs": [],
   "source": [
    "#### 结果可以输出到csv文件 #### \n",
    "KL.to_csv(SAVENAME,index=False)"
   ]
  },
  {
   "cell_type": "markdown",
   "metadata": {},
   "source": [
    "使用python的baostock接口，实现股票自动盯盘:https://blog.csdn.net/dongdong2980/article/details/80420220"
   ]
  },
  {
   "cell_type": "code",
   "execution_count": 5,
   "metadata": {},
   "outputs": [
    {
     "name": "stdout",
     "output_type": "stream",
     "text": [
      "<class 'pandas.core.frame.DataFrame'>\n",
      "RangeIndex: 3120 entries, 0 to 3119\n",
      "Data columns (total 14 columns):\n",
      "date           3120 non-null datetime64[ns]\n",
      "code           3120 non-null object\n",
      "open           3120 non-null float64\n",
      "high           3120 non-null float64\n",
      "low            3120 non-null float64\n",
      "close          3120 non-null float64\n",
      "preclose       3120 non-null float64\n",
      "volume         3120 non-null int64\n",
      "amount         3120 non-null float64\n",
      "adjustflag     3120 non-null int64\n",
      "turn           3120 non-null float64\n",
      "tradestatus    3120 non-null int64\n",
      "pctChg         3120 non-null float64\n",
      "isST           2349 non-null float64\n",
      "dtypes: datetime64[ns](1), float64(9), int64(3), object(1)\n",
      "memory usage: 341.3+ KB\n"
     ]
    }
   ],
   "source": [
    "KL = pd.read_csv(SAVENAME)\n",
    "KL['date'] = pd.to_datetime(KL['date'])\n",
    "# 看缺省值\n",
    "KL.info()"
   ]
  },
  {
   "cell_type": "markdown",
   "metadata": {},
   "source": [
    "### 数据清洗"
   ]
  },
  {
   "cell_type": "code",
   "execution_count": 6,
   "metadata": {},
   "outputs": [
    {
     "data": {
      "text/plain": [
       "Text(0.5,1,'KL')"
      ]
     },
     "execution_count": 6,
     "metadata": {},
     "output_type": "execute_result"
    },
    {
     "data": {
      "image/png": "[encoded data removed]",
      "text/plain": [
       "<Figure size 1296x216 with 1 Axes>"
      ]
     },
     "metadata": {},
     "output_type": "display_data"
    }
   ],
   "source": [
    "# 查看isST\n",
    "fig = plt.figure(figsize=(18,3))\n",
    "for name in ['isST']:\n",
    "    plt.plot(range(0,KL.shape[0]),KL[name])\n",
    "plt.xlim(0,KL.shape[0])\n",
    "plt.xlabel('Trading Day')\n",
    "plt.title('KL')"
   ]
  },
  {
   "cell_type": "code",
   "execution_count": 7,
   "metadata": {},
   "outputs": [
    {
     "name": "stdout",
     "output_type": "stream",
     "text": [
      "3    3120\n",
      "Name: adjustflag, dtype: int64\n",
      "1    3120\n",
      "Name: tradestatus, dtype: int64\n"
     ]
    }
   ],
   "source": [
    "# 其实是分类变量 该做变换 但全一致不影响\n",
    "print(KL.adjustflag.value_counts())\n",
    "print(KL.tradestatus.value_counts())\n",
    "# 课删掉\n",
    "KL.drop('adjustflag', axis=1, inplace=True)  # 复权状态(1：后复权， 2：前复权，3：不复权）\n",
    "KL.drop('tradestatus', axis=1, inplace=True) # 交易状态(1：正常交易 0：停牌）\n",
    "# 其他删掉\n",
    "KL.drop('preclose', axis=1, inplace=True) # 昨日收盘价\n",
    "KL.drop('pctChg', axis=1, inplace=True)   # 涨跌幅\n",
    "KL.drop('volume', axis=1, inplace=True)   # 成交量（累计 单位：股）\n",
    "KL.drop('amount', axis=1, inplace=True)   # 成交额（单位：人民币元）\n",
    "KL.drop('turn', axis=1, inplace=True)     # 换手率\n",
    "KL.drop('isST', axis=1, inplace=True)     # 是否ST股，1是，0否"
   ]
  },
  {
   "cell_type": "code",
   "execution_count": 8,
   "metadata": {},
   "outputs": [
    {
     "data": {
      "text/html": [
       "<div>\n",
       "<style scoped>\n",
       "    .dataframe tbody tr th:only-of-type {\n",
       "        vertical-align: middle;\n",
       "    }\n",
       "\n",
       "    .dataframe tbody tr th {\n",
       "        vertical-align: top;\n",
       "    }\n",
       "\n",
       "    .dataframe thead th {\n",
       "        text-align: right;\n",
       "    }\n",
       "</style>\n",
       "<table border=\"1\" class=\"dataframe\">\n",
       "  <thead>\n",
       "    <tr style=\"text-align: right;\">\n",
       "      <th></th>\n",
       "      <th>date</th>\n",
       "      <th>code</th>\n",
       "      <th>open</th>\n",
       "      <th>high</th>\n",
       "      <th>low</th>\n",
       "      <th>close</th>\n",
       "    </tr>\n",
       "  </thead>\n",
       "  <tbody>\n",
       "    <tr>\n",
       "      <th>0</th>\n",
       "      <td>2006-01-04</td>\n",
       "      <td>sh.000300</td>\n",
       "      <td>926.559</td>\n",
       "      <td>941.428</td>\n",
       "      <td>926.412</td>\n",
       "      <td>941.428</td>\n",
       "    </tr>\n",
       "    <tr>\n",
       "      <th>1</th>\n",
       "      <td>2006-01-05</td>\n",
       "      <td>sh.000300</td>\n",
       "      <td>943.850</td>\n",
       "      <td>959.625</td>\n",
       "      <td>942.308</td>\n",
       "      <td>959.134</td>\n",
       "    </tr>\n",
       "    <tr>\n",
       "      <th>2</th>\n",
       "      <td>2006-01-06</td>\n",
       "      <td>sh.000300</td>\n",
       "      <td>961.915</td>\n",
       "      <td>975.628</td>\n",
       "      <td>956.040</td>\n",
       "      <td>970.032</td>\n",
       "    </tr>\n",
       "  </tbody>\n",
       "</table>\n",
       "</div>"
      ],
      "text/plain": [
       "        date       code     open     high      low    close\n",
       "0 2006-01-04  sh.000300  926.559  941.428  926.412  941.428\n",
       "1 2006-01-05  sh.000300  943.850  959.625  942.308  959.134\n",
       "2 2006-01-06  sh.000300  961.915  975.628  956.040  970.032"
      ]
     },
     "execution_count": 8,
     "metadata": {},
     "output_type": "execute_result"
    }
   ],
   "source": [
    "KL.head(3)"
   ]
  },
  {
   "cell_type": "markdown",
   "metadata": {},
   "source": [
    "### 数据变换"
   ]
  },
  {
   "cell_type": "code",
   "execution_count": 9,
   "metadata": {},
   "outputs": [],
   "source": [
    "#计算【移动平均】+【标准差】：5日，10日，20日\n",
    "for ma in [5,10,20]:\n",
    "    KL['ma'+str(ma)] = KL['close'].rolling(ma).mean()\n",
    "    KL['std'+str(ma)] = KL['close'].rolling(ma).std()\n",
    "\n",
    "for name in ['close','ma5','ma10','ma20','std5','std10','std20']:\n",
    "    #计算【变化量】：收盘价，和5日，10日，20日，30日，60日的移动平均+标准差\n",
    "    KL['d'+name] = KL[name].diff()\n",
    "    #计算【变化率】：收盘价，和5日，10日，20日，30日，60日的移动平均+标准差\n",
    "    KL['v'+name] = KL['d'+name]/ KL[name].shift(1)\n",
    "    \n",
    "# 计算【布林带位置】：5日，10日，20日\n",
    "for ma in [5,10,20]:  \n",
    "    KL['pp'+str(ma)] = (KL['close'] - KL['ma'+str(ma)])/ (2 * KL['std'+str(ma)]) "
   ]
  },
  {
   "cell_type": "code",
   "execution_count": 10,
   "metadata": {},
   "outputs": [],
   "source": [
    "# 计算【5日均线和 10日均线的差距】\n",
    "KL['D12'] = (KL['ma5'] - KL['ma10'])\n",
    "KL['dis12'] = (KL['ma5'] - KL['ma10'])/ KL['ma10']\n",
    "# 计算【5日均线和 20日均线的差距】\n",
    "KL['D13'] = (KL['ma5'] - KL['ma20'])\n",
    "KL['dis13'] = (KL['ma5'] - KL['ma20'])/ KL['ma20']\n",
    "# 计算【10日均线和 20日均线的差距】\n",
    "KL['D23'] = (KL['ma10'] - KL['ma20'])\n",
    "KL['dis23'] = (KL['ma10'] - KL['ma20'])/ KL['ma20']"
   ]
  },
  {
   "cell_type": "code",
   "execution_count": 11,
   "metadata": {},
   "outputs": [],
   "source": [
    "# std10/close、std20/close\n",
    "KL['std10close'] = KL['std10'] / KL['close']\n",
    "KL['std20close'] = KL['std20'] / KL['close']\n",
    "\n",
    "# Posi 20_open\n",
    "KL['pp20open'] = (KL['open'] - KL['ma20'])/ (2 * KL['std20']) "
   ]
  },
  {
   "cell_type": "code",
   "execution_count": 12,
   "metadata": {},
   "outputs": [],
   "source": [
    "# 考虑还可以生成其他特征?"
   ]
  },
  {
   "cell_type": "code",
   "execution_count": 13,
   "metadata": {},
   "outputs": [
    {
     "data": {
      "text/plain": [
       "Index(['date', 'code', 'open', 'high', 'low', 'close', 'ma5', 'std5', 'ma10',\n",
       "       'std10', 'ma20', 'std20', 'dclose', 'vclose', 'dma5', 'vma5', 'dma10',\n",
       "       'vma10', 'dma20', 'vma20', 'dstd5', 'vstd5', 'dstd10', 'vstd10',\n",
       "       'dstd20', 'vstd20', 'pp5', 'pp10', 'pp20', 'D12', 'dis12', 'D13',\n",
       "       'dis13', 'D23', 'dis23', 'std10close', 'std20close', 'pp20open'],\n",
       "      dtype='object')"
      ]
     },
     "execution_count": 13,
     "metadata": {},
     "output_type": "execute_result"
    }
   ],
   "source": [
    "KL.columns"
   ]
  },
  {
   "cell_type": "code",
   "execution_count": 14,
   "metadata": {},
   "outputs": [
    {
     "name": "stdout",
     "output_type": "stream",
     "text": [
      "Done\n"
     ]
    }
   ],
   "source": [
    "# 滞后变量 2期  \n",
    "for col in KL.columns[2:]:    \n",
    "    for i in range(0,2):\n",
    "        KL[col+'_l'+str(i+1)]=KL[col].shift(i+1)          \n",
    "print('Done')"
   ]
  },
  {
   "cell_type": "markdown",
   "metadata": {},
   "source": [
    "### 目标特征"
   ]
  },
  {
   "cell_type": "code",
   "execution_count": 15,
   "metadata": {},
   "outputs": [
    {
     "name": "stderr",
     "output_type": "stream",
     "text": [
      "/Users/NeiL/anaconda/lib/python3.6/site-packages/ipykernel_launcher.py:5: SettingWithCopyWarning: \n",
      "A value is trying to be set on a copy of a slice from a DataFrame\n",
      "\n",
      "See the caveats in the documentation: http://pandas.pydata.org/pandas-docs/stable/indexing.html#indexing-view-versus-copy\n",
      "  \"\"\"\n",
      "/Users/NeiL/anaconda/lib/python3.6/site-packages/ipykernel_launcher.py:6: SettingWithCopyWarning: \n",
      "A value is trying to be set on a copy of a slice from a DataFrame\n",
      "\n",
      "See the caveats in the documentation: http://pandas.pydata.org/pandas-docs/stable/indexing.html#indexing-view-versus-copy\n",
      "  \n",
      "/Users/NeiL/anaconda/lib/python3.6/site-packages/ipykernel_launcher.py:7: SettingWithCopyWarning: \n",
      "A value is trying to be set on a copy of a slice from a DataFrame\n",
      "\n",
      "See the caveats in the documentation: http://pandas.pydata.org/pandas-docs/stable/indexing.html#indexing-view-versus-copy\n",
      "  import sys\n"
     ]
    }
   ],
   "source": [
    "# y:  下一日的 收盘价 涨跌 涨1 跌-1\n",
    "# y2: 下一日的 收盘价 变化量\n",
    "KL['y']= KL.dclose.shift(-1)\n",
    "KL['y2']= KL.dclose.shift(-1)\n",
    "KL.y[KL.y2==0] = 0\n",
    "KL.y[KL.y2> 0] = 1\n",
    "KL.y[KL.y2< 0] = -1"
   ]
  },
  {
   "cell_type": "code",
   "execution_count": 16,
   "metadata": {},
   "outputs": [],
   "source": [
    "# 最新一日的目标特征未知：删除\n",
    "KL.drop(KL[KL.date==KL.date.max()].index, axis=0, inplace=True)"
   ]
  },
  {
   "cell_type": "code",
   "execution_count": 17,
   "metadata": {},
   "outputs": [
    {
     "data": {
      "text/plain": [
       " 1.0    1683\n",
       "-1.0    1436\n",
       "Name: y, dtype: int64"
      ]
     },
     "execution_count": 17,
     "metadata": {},
     "output_type": "execute_result"
    }
   ],
   "source": [
    "# 检查\n",
    "KL.y.value_counts()"
   ]
  },
  {
   "cell_type": "code",
   "execution_count": 18,
   "metadata": {},
   "outputs": [
    {
     "data": {
      "text/plain": [
       "(3119, 112)"
      ]
     },
     "execution_count": 18,
     "metadata": {},
     "output_type": "execute_result"
    }
   ],
   "source": [
    "KL.shape"
   ]
  },
  {
   "cell_type": "code",
   "execution_count": 19,
   "metadata": {},
   "outputs": [
    {
     "data": {
      "text/plain": [
       "Index(['date', 'code', 'open', 'high', 'low', 'close', 'ma5', 'std5', 'ma10',\n",
       "       'std10',\n",
       "       ...\n",
       "       'dis23_l1', 'dis23_l2', 'std10close_l1', 'std10close_l2',\n",
       "       'std20close_l1', 'std20close_l2', 'pp20open_l1', 'pp20open_l2', 'y',\n",
       "       'y2'],\n",
       "      dtype='object', length=112)"
      ]
     },
     "execution_count": 19,
     "metadata": {},
     "output_type": "execute_result"
    }
   ],
   "source": [
    "KL.columns"
   ]
  },
  {
   "cell_type": "markdown",
   "metadata": {},
   "source": [
    "### 取样分组"
   ]
  },
  {
   "cell_type": "code",
   "execution_count": 20,
   "metadata": {},
   "outputs": [
    {
     "name": "stderr",
     "output_type": "stream",
     "text": [
      "/Users/NeiL/anaconda/lib/python3.6/site-packages/ipykernel_launcher.py:1: UserWarning: Boolean Series key will be reindexed to match DataFrame index.\n",
      "  \"\"\"Entry point for launching an IPython kernel.\n"
     ]
    }
   ],
   "source": [
    "train_X = KL[KL.date>'2006-12-31'][KL.date<'2017-01-01']\n",
    "test_X = KL[KL.date>='2017-01-01']\n",
    "\n",
    "train_y = KL.y[KL.date>'2006-12-31'][KL.date<'2017-01-01'].astype(int)\n",
    "test_y = KL.y[KL.date>='2017-01-01'].astype(int)\n",
    "\n",
    "train_y2 = KL.y2[KL.date>'2006-12-31'][KL.date<'2017-01-01']\n",
    "test_y2 = KL.y2[KL.date>='2017-01-01']"
   ]
  },
  {
   "cell_type": "code",
   "execution_count": 21,
   "metadata": {},
   "outputs": [
    {
     "name": "stdout",
     "output_type": "stream",
     "text": [
      " 1    1292\n",
      "-1    1140\n",
      "Name: y, dtype: int64\n",
      " 1    235\n",
      "-1    211\n",
      "Name: y, dtype: int64\n"
     ]
    }
   ],
   "source": [
    "print(train_y.value_counts())\n",
    "print(test_y.value_counts())"
   ]
  },
  {
   "cell_type": "markdown",
   "metadata": {},
   "source": [
    "### 特征选取"
   ]
  },
  {
   "cell_type": "code",
   "execution_count": 22,
   "metadata": {},
   "outputs": [
    {
     "name": "stderr",
     "output_type": "stream",
     "text": [
      "/Users/NeiL/anaconda/lib/python3.6/site-packages/statsmodels/compat/pandas.py:56: FutureWarning: The pandas.core.datetools module is deprecated and will be removed in a future version. Please use the pandas.tseries module instead.\n",
      "  from pandas.core import datetools\n"
     ]
    },
    {
     "name": "stdout",
     "output_type": "stream",
     "text": [
      "['std5', 'std10', 'dclose', 'vclose', 'dma5', 'vma5', 'dma10', 'vma10', 'dma20', 'vma20', 'dstd5', 'vstd5', 'dstd10', 'vstd10', 'dstd20', 'vstd20', 'pp5', 'pp10', 'pp20', 'D12', 'dis12', 'D13', 'dis13', 'D23', 'dis23', 'std10close', 'std20close', 'pp20open', 'std5_l1', 'std5_l2', 'std10_l1', 'std10_l2', 'dclose_l1', 'dclose_l2', 'vclose_l1', 'vclose_l2', 'dma5_l1', 'dma5_l2', 'vma5_l1', 'vma5_l2', 'dma10_l1', 'dma10_l2', 'vma10_l1', 'vma10_l2', 'dma20_l1', 'dma20_l2', 'vma20_l1', 'vma20_l2', 'dstd5_l1', 'dstd5_l2', 'vstd5_l1', 'vstd5_l2', 'dstd10_l1', 'dstd10_l2', 'vstd10_l1', 'vstd10_l2', 'dstd20_l1', 'dstd20_l2', 'vstd20_l1', 'vstd20_l2', 'pp5_l1', 'pp5_l2', 'pp10_l1', 'pp10_l2', 'pp20_l1', 'pp20_l2', 'D12_l1', 'D12_l2', 'dis12_l1', 'dis12_l2', 'D13_l1', 'D13_l2', 'dis13_l1', 'dis13_l2', 'D23_l1', 'D23_l2', 'dis23_l1', 'dis23_l2', 'std10close_l1', 'std10close_l2', 'std20close_l1', 'std20close_l2', 'pp20open_l1', 'pp20open_l2', 'y', 'y2']\n",
      "------------\n",
      "We can drop:\n",
      "['open', 'high', 'low', 'close', 'ma5', 'ma10', 'ma20', 'std20', 'open_l1', 'open_l2', 'high_l1', 'high_l2', 'low_l1', 'low_l2', 'close_l1', 'close_l2', 'ma5_l1', 'ma5_l2', 'ma10_l1', 'ma10_l2', 'ma20_l1', 'ma20_l2', 'std20_l1', 'std20_l2']\n"
     ]
    }
   ],
   "source": [
    "# 单位根检验 ——Augmented Dickey-Fuller test\n",
    "import statsmodels.tsa.stattools as ts\n",
    "\n",
    "pickcol=[]\n",
    "dropcol=[]\n",
    "for col in train_X.columns[2:]:       \n",
    "    result = ts.adfuller(train_X[col],0,autolag='AIC')\n",
    "    if result[1]<=0.01:\n",
    "        pickcol.append(col)\n",
    "    else:\n",
    "        dropcol.append(col)\n",
    "print(pickcol)\n",
    "print('------------')\n",
    "print('We can drop:')\n",
    "print(dropcol)"
   ]
  },
  {
   "cell_type": "code",
   "execution_count": 23,
   "metadata": {},
   "outputs": [],
   "source": [
    "# Spearman相关系数\n",
    "data_spearman = train_X[pickcol].corr(method='spearman')"
   ]
  },
  {
   "cell_type": "code",
   "execution_count": 24,
   "metadata": {
    "scrolled": true
   },
   "outputs": [
    {
     "data": {
      "text/plain": [
       "y           1.000000\n",
       "y2          0.864332\n",
       "dma20_l2    0.095942\n",
       "vma20_l2    0.095672\n",
       "vma20_l1    0.085215\n",
       "dma20_l1    0.084192\n",
       "D23_l1      0.082901\n",
       "D23_l2      0.082612\n",
       "vma20       0.082430\n",
       "dis23_l2    0.081435\n",
       "dis23_l1    0.080975\n",
       "dma20       0.080678\n",
       "D23         0.079684\n",
       "dis23       0.079086\n",
       "std5        0.078465\n",
       "dis13       0.072498\n",
       "D13_l2      0.072491\n",
       "D13         0.072127\n",
       "dis13_l2    0.070943\n",
       "Name: y, dtype: float64"
      ]
     },
     "execution_count": 24,
     "metadata": {},
     "output_type": "execute_result"
    }
   ],
   "source": [
    "# 查看y\n",
    "data_spearman['y'][data_spearman['y']>0.07].sort_values(ascending=False)"
   ]
  },
  {
   "cell_type": "code",
   "execution_count": 25,
   "metadata": {},
   "outputs": [
    {
     "data": {
      "text/plain": [
       "y2          1.000000\n",
       "y           0.864332\n",
       "dma20_l2    0.097774\n",
       "vma20_l2    0.095194\n",
       "D23_l2      0.088582\n",
       "D23_l1      0.086021\n",
       "dis23_l2    0.085765\n",
       "vma20_l1    0.084994\n",
       "dma20_l1    0.084521\n",
       "vma20       0.083640\n",
       "std5        0.083181\n",
       "dma20       0.082357\n",
       "dis23_l1    0.082231\n",
       "D23         0.080473\n",
       "Name: y2, dtype: float64"
      ]
     },
     "execution_count": 25,
     "metadata": {},
     "output_type": "execute_result"
    }
   ],
   "source": [
    "# 查看y2\n",
    "data_spearman['y2'][data_spearman['y2']>0.08].sort_values(ascending=False)"
   ]
  },
  {
   "cell_type": "markdown",
   "metadata": {},
   "source": [
    "### Wrapper"
   ]
  },
  {
   "cell_type": "code",
   "execution_count": 26,
   "metadata": {},
   "outputs": [
    {
     "data": {
      "text/plain": [
       "83"
      ]
     },
     "execution_count": 26,
     "metadata": {},
     "output_type": "execute_result"
    }
   ],
   "source": [
    "len(pickcol[:-3])"
   ]
  },
  {
   "cell_type": "code",
   "execution_count": 27,
   "metadata": {
    "scrolled": true
   },
   "outputs": [
    {
     "name": "stderr",
     "output_type": "stream",
     "text": [
      "/Users/NeiL/anaconda/lib/python3.6/site-packages/sklearn/utils/deprecation.py:58: DeprecationWarning: Class RandomizedLogisticRegression is deprecated; The class RandomizedLogisticRegression is deprecated in 0.19 and will be removed in 0.21.\n",
      "  warnings.warn(msg, category=DeprecationWarning)\n"
     ]
    }
   ],
   "source": [
    "# y\n",
    "from sklearn.linear_model import RandomizedLogisticRegression\n",
    "#Data gets scaled automatically by sklearn's implementation\n",
    "X = train_X[pickcol[:-2]]\n",
    "y = train_y\n",
    "names = pickcol[:-2]\n",
    "\n",
    "rlr = RandomizedLogisticRegression(scaling=0.07,sample_fraction=1,n_resampling=500)\n",
    "rlr.fit(X, y)\n",
    "\n",
    "FEAS = sorted(zip(map(lambda x: format(x, '.4f'), rlr.scores_), names), reverse=True)"
   ]
  },
  {
   "cell_type": "code",
   "execution_count": 28,
   "metadata": {
    "scrolled": false
   },
   "outputs": [
    {
     "name": "stdout",
     "output_type": "stream",
     "text": [
      "Features sorted by their score:\n",
      "('0.5040', 'std5')\n",
      "('0.4920', 'vma20_l2')\n",
      "('0.4860', 'vstd5_l1')\n",
      "('0.4760', 'pp20')\n",
      "('0.2540', 'dma20_l2')\n",
      "('0.2480', 'dis23_l2')\n",
      "('0.2400', 'std5_l1')\n",
      "('0.2380', 'vma20_l1')\n",
      "('0.2240', 'std10close')\n",
      "('0.2020', 'dis23_l1')\n",
      "('0.1820', 'vstd10')\n",
      "('0.1760', 'vma20')\n",
      "('0.0680', 'std10')\n",
      "('0.0620', 'pp20_l1')\n",
      "('0.0400', 'std20close')\n",
      "('0.0400', 'pp20open_l1')\n",
      "('0.0280', 'dma20_l1')\n",
      "('0.0200', 'dis23')\n"
     ]
    }
   ],
   "source": [
    "print(\"Features sorted by their score:\")\n",
    "for er in FEAS:\n",
    "    if float(er[0])<0.02:\n",
    "        break\n",
    "    print(er)"
   ]
  },
  {
   "cell_type": "code",
   "execution_count": 29,
   "metadata": {},
   "outputs": [
    {
     "data": {
      "text/plain": [
       "12"
      ]
     },
     "execution_count": 29,
     "metadata": {},
     "output_type": "execute_result"
    }
   ],
   "source": [
    "# 变换一下\n",
    "ss=[]\n",
    "for i in range(0,len(FEAS)):\n",
    "    if float(FEAS[i][0])<0.1:\n",
    "        break\n",
    "    ss.append(FEAS[i][1])\n",
    "len(ss)"
   ]
  },
  {
   "cell_type": "code",
   "execution_count": 30,
   "metadata": {},
   "outputs": [
    {
     "data": {
      "text/plain": [
       "['std5',\n",
       " 'vma20_l2',\n",
       " 'vstd5_l1',\n",
       " 'pp20',\n",
       " 'dma20_l2',\n",
       " 'dis23_l2',\n",
       " 'std5_l1',\n",
       " 'vma20_l1',\n",
       " 'std10close',\n",
       " 'dis23_l1',\n",
       " 'vstd10',\n",
       " 'vma20']"
      ]
     },
     "execution_count": 30,
     "metadata": {},
     "output_type": "execute_result"
    }
   ],
   "source": [
    "# ['vma10','vma20','vstd20','pp20','dis23']\n",
    "ss"
   ]
  },
  {
   "cell_type": "markdown",
   "metadata": {},
   "source": [
    "### 建模"
   ]
  },
  {
   "cell_type": "code",
   "execution_count": 31,
   "metadata": {},
   "outputs": [],
   "source": [
    "# 随机森林（看涨跌）\n",
    "from sklearn.ensemble import RandomForestClassifier\n",
    "from sklearn import metrics\n",
    "\n",
    "def printrf(train_X, train_y, test_X, test_y, lenss):\n",
    "    f1f=[0,0,0,0,0,0]\n",
    "    for abab in range(5,31,5):\n",
    "        for i in range(1,4):\n",
    "            for j in range(1,lenss):\n",
    "                for indexmdep,mdep in enumerate([17,18,19,20,21,None]):\n",
    "                    rf=RandomForestClassifier(n_estimators=abab,\n",
    "                                              min_samples_leaf=i,     \n",
    "                                              max_features=j,\n",
    "                                              max_depth=mdep,\n",
    "                                              random_state=0) \n",
    "                    rf.fit(train_X, train_y)\n",
    "                    fss=metrics.precision_score(test_y, rf.predict(test_X), average='binary')\n",
    "                    fst=metrics.precision_score(train_y, rf.predict(train_X), average='binary')\n",
    "    \n",
    "                    if f1f[0]<fss:\n",
    "                        f1f[0]=fss\n",
    "                        f1f[1]=fst\n",
    "                        f1f[2]=abab\n",
    "                        f1f[3]=i\n",
    "                        f1f[4]=j\n",
    "                        f1f[5]=indexmdep+1\n",
    "    return f1f"
   ]
  },
  {
   "cell_type": "code",
   "execution_count": 53,
   "metadata": {},
   "outputs": [
    {
     "name": "stdout",
     "output_type": "stream",
     "text": [
      "2\n",
      "[0.5879629629629629, 0.9147812971342383, 25, 2, 1, 1]\n",
      "3\n",
      "[0.6140350877192983, 0.996059889676911, 10, 1, 1, 6]\n",
      "4\n",
      "[0.6074766355140186, 0.9731800766283525, 15, 1, 1, 2]\n",
      "5\n",
      "[0.5989010989010989, 0.9984472049689441, 20, 1, 4, 6]\n",
      "6\n",
      "[0.5953488372093023, 0.9134840218238504, 5, 1, 3, 2]\n",
      "7\n",
      "[0.5833333333333334, 1.0, 30, 1, 3, 6]\n"
     ]
    }
   ],
   "source": [
    "from sklearn.ensemble import RandomForestClassifier\n",
    "from sklearn import metrics\n",
    "import math\n",
    "\n",
    "Featurex=[ss[0]]\n",
    "for col in ss[1:7]:\n",
    "    Featurex.append(col)\n",
    "    print(len(Featurex))\n",
    "    X = train_X[Featurex]\n",
    "    tX = test_X[Featurex]\n",
    "\n",
    "    ggg = printrf(X, train_y, tX, test_y, len(Featurex))\n",
    "    print(ggg)"
   ]
  },
  {
   "cell_type": "code",
   "execution_count": 52,
   "metadata": {},
   "outputs": [
    {
     "name": "stdout",
     "output_type": "stream",
     "text": [
      "2\n",
      "[0.576036866359447, 0.9538228614685844, 25, 1, 1, 3]\n",
      "3\n",
      "[0.6037735849056604, 0.9814385150812065, 20, 1, 1, 2]\n",
      "4\n",
      "[0.6019900497512438, 0.9961360123647605, 25, 1, 2, 3]\n",
      "5\n",
      "[0.615819209039548, 0.9905882352941177, 10, 1, 4, 6]\n",
      "6\n",
      "[0.5990338164251208, 0.9109746738296239, 5, 1, 4, 1]\n",
      "7\n",
      "[0.5818965517241379, 0.992289899768697, 15, 1, 6, 6]\n"
     ]
    }
   ],
   "source": [
    "from sklearn.ensemble import RandomForestClassifier\n",
    "from sklearn import metrics\n",
    "import math\n",
    "\n",
    "Featurex=[ss[0]]\n",
    "for col in ss[2:8]:\n",
    "    Featurex.append(col)\n",
    "    print(len(Featurex))\n",
    "    X = train_X[Featurex]\n",
    "    tX = test_X[Featurex]\n",
    "\n",
    "    ggg = printrf(X, train_y, tX, test_y, len(Featurex))\n",
    "    print(ggg)"
   ]
  },
  {
   "cell_type": "code",
   "execution_count": 46,
   "metadata": {},
   "outputs": [
    {
     "name": "stdout",
     "output_type": "stream",
     "text": [
      "             precision    recall  f1-score   support\n",
      "\n",
      "         -1       0.97      0.99      0.98      1140\n",
      "          1       0.99      0.98      0.98      1292\n",
      "\n",
      "avg / total       0.98      0.98      0.98      2432\n",
      "\n",
      "             precision    recall  f1-score   support\n",
      "\n",
      "         -1       0.53      0.68      0.60       211\n",
      "          1       0.62      0.46      0.53       235\n",
      "\n",
      "avg / total       0.58      0.57      0.56       446\n",
      "\n"
     ]
    }
   ],
   "source": [
    "Featurex=['std5','vstd5_l1','pp20','dma20_l2','dis23_l2']\n",
    "X = train_X[Featurex]\n",
    "tX = test_X[Featurex]\n",
    "\n",
    "rf=RandomForestClassifier(n_estimators=10,\n",
    "                              min_samples_leaf=1,     \n",
    "                              max_features=4,\n",
    "                              max_depth=None,\n",
    "                              random_state=0) \n",
    "rf.fit(X, train_y)\n",
    "print(metrics.classification_report(train_y, rf.predict(X)))\n",
    "print(metrics.classification_report(test_y, rf.predict(tX)))"
   ]
  },
  {
   "cell_type": "code",
   "execution_count": 47,
   "metadata": {},
   "outputs": [
    {
     "name": "stdout",
     "output_type": "stream",
     "text": [
      "Confusion matrix, without normalization\n",
      "[[143  68]\n",
      " [126 109]]\n"
     ]
    },
    {
     "data": {
      "image/png": "[encoded data removed]",
      "text/plain": [
       "<Figure size 432x288 with 2 Axes>"
      ]
     },
     "metadata": {},
     "output_type": "display_data"
    }
   ],
   "source": [
    "pred_y = rf.predict(tX)  # ***\n",
    "\n",
    "# Compute confusion matrix\n",
    "cnf_matrix = confusion_matrix(test_y, pred_y)\n",
    "np.set_printoptions(precision=2)\n",
    "\n",
    "# Plot non-normalized confusion matrix\n",
    "plt.figure()\n",
    "plot_confusion_matrix(cnf_matrix, classes=['-1','1'], title='Confusion matrix')\n",
    "\n",
    "plt.show()"
   ]
  },
  {
   "cell_type": "code",
   "execution_count": 48,
   "metadata": {},
   "outputs": [
    {
     "name": "stderr",
     "output_type": "stream",
     "text": [
      "/Users/NeiL/anaconda/lib/python3.6/site-packages/ipykernel_launcher.py:2: SettingWithCopyWarning: \n",
      "A value is trying to be set on a copy of a slice from a DataFrame.\n",
      "Try using .loc[row_indexer,col_indexer] = value instead\n",
      "\n",
      "See the caveats in the documentation: http://pandas.pydata.org/pandas-docs/stable/indexing.html#indexing-view-versus-copy\n",
      "  \n",
      "/Users/NeiL/anaconda/lib/python3.6/site-packages/ipykernel_launcher.py:3: SettingWithCopyWarning: \n",
      "A value is trying to be set on a copy of a slice from a DataFrame.\n",
      "Try using .loc[row_indexer,col_indexer] = value instead\n",
      "\n",
      "See the caveats in the documentation: http://pandas.pydata.org/pandas-docs/stable/indexing.html#indexing-view-versus-copy\n",
      "  This is separate from the ipykernel package so we can avoid doing imports until\n"
     ]
    }
   ],
   "source": [
    "# 回测\n",
    "test_X['pred_y']= rf.predict(tX)\n",
    "test_X['newp'] = test_X['close']"
   ]
  },
  {
   "cell_type": "code",
   "execution_count": 49,
   "metadata": {},
   "outputs": [
    {
     "data": {
      "text/html": [
       "<div>\n",
       "<style scoped>\n",
       "    .dataframe tbody tr th:only-of-type {\n",
       "        vertical-align: middle;\n",
       "    }\n",
       "\n",
       "    .dataframe tbody tr th {\n",
       "        vertical-align: top;\n",
       "    }\n",
       "\n",
       "    .dataframe thead th {\n",
       "        text-align: right;\n",
       "    }\n",
       "</style>\n",
       "<table border=\"1\" class=\"dataframe\">\n",
       "  <thead>\n",
       "    <tr style=\"text-align: right;\">\n",
       "      <th></th>\n",
       "      <th>date</th>\n",
       "      <th>code</th>\n",
       "      <th>open</th>\n",
       "      <th>high</th>\n",
       "      <th>low</th>\n",
       "      <th>close</th>\n",
       "      <th>ma5</th>\n",
       "      <th>std5</th>\n",
       "      <th>ma10</th>\n",
       "      <th>std10</th>\n",
       "      <th>...</th>\n",
       "      <th>std10close_l1</th>\n",
       "      <th>std10close_l2</th>\n",
       "      <th>std20close_l1</th>\n",
       "      <th>std20close_l2</th>\n",
       "      <th>pp20open_l1</th>\n",
       "      <th>pp20open_l2</th>\n",
       "      <th>y</th>\n",
       "      <th>y2</th>\n",
       "      <th>pred_y</th>\n",
       "      <th>newp</th>\n",
       "    </tr>\n",
       "  </thead>\n",
       "  <tbody>\n",
       "    <tr>\n",
       "      <th>2673</th>\n",
       "      <td>2017-01-03</td>\n",
       "      <td>sh.000300</td>\n",
       "      <td>3313.953</td>\n",
       "      <td>3345.263</td>\n",
       "      <td>3313.953</td>\n",
       "      <td>3342.227</td>\n",
       "      <td>3313.6694</td>\n",
       "      <td>17.517958</td>\n",
       "      <td>3318.1619</td>\n",
       "      <td>15.855081</td>\n",
       "      <td>...</td>\n",
       "      <td>0.004252</td>\n",
       "      <td>0.005014</td>\n",
       "      <td>0.020638</td>\n",
       "      <td>0.022819</td>\n",
       "      <td>-0.499236</td>\n",
       "      <td>-0.562878</td>\n",
       "      <td>1.0</td>\n",
       "      <td>26.085</td>\n",
       "      <td>-1</td>\n",
       "      <td>3342.227</td>\n",
       "    </tr>\n",
       "    <tr>\n",
       "      <th>2674</th>\n",
       "      <td>2017-01-04</td>\n",
       "      <td>sh.000300</td>\n",
       "      <td>3340.558</td>\n",
       "      <td>3369.566</td>\n",
       "      <td>3338.153</td>\n",
       "      <td>3368.312</td>\n",
       "      <td>3324.0548</td>\n",
       "      <td>30.276525</td>\n",
       "      <td>3324.0867</td>\n",
       "      <td>21.968868</td>\n",
       "      <td>...</td>\n",
       "      <td>0.004744</td>\n",
       "      <td>0.004252</td>\n",
       "      <td>0.019287</td>\n",
       "      <td>0.020638</td>\n",
       "      <td>-0.391666</td>\n",
       "      <td>-0.499236</td>\n",
       "      <td>-1.0</td>\n",
       "      <td>-0.523</td>\n",
       "      <td>-1</td>\n",
       "      <td>3368.312</td>\n",
       "    </tr>\n",
       "    <tr>\n",
       "      <th>2675</th>\n",
       "      <td>2017-01-05</td>\n",
       "      <td>sh.000300</td>\n",
       "      <td>3368.340</td>\n",
       "      <td>3373.412</td>\n",
       "      <td>3361.462</td>\n",
       "      <td>3367.789</td>\n",
       "      <td>3337.2348</td>\n",
       "      <td>32.478714</td>\n",
       "      <td>3327.0120</td>\n",
       "      <td>25.731985</td>\n",
       "      <td>...</td>\n",
       "      <td>0.006522</td>\n",
       "      <td>0.004744</td>\n",
       "      <td>0.017967</td>\n",
       "      <td>0.019287</td>\n",
       "      <td>-0.159857</td>\n",
       "      <td>-0.391666</td>\n",
       "      <td>-1.0</td>\n",
       "      <td>-20.122</td>\n",
       "      <td>1</td>\n",
       "      <td>3367.789</td>\n",
       "    </tr>\n",
       "  </tbody>\n",
       "</table>\n",
       "<p>3 rows × 114 columns</p>\n",
       "</div>"
      ],
      "text/plain": [
       "           date       code      open      high       low     close        ma5  \\\n",
       "2673 2017-01-03  sh.000300  3313.953  3345.263  3313.953  3342.227  3313.6694   \n",
       "2674 2017-01-04  sh.000300  3340.558  3369.566  3338.153  3368.312  3324.0548   \n",
       "2675 2017-01-05  sh.000300  3368.340  3373.412  3361.462  3367.789  3337.2348   \n",
       "\n",
       "           std5       ma10      std10    ...     std10close_l1  std10close_l2  \\\n",
       "2673  17.517958  3318.1619  15.855081    ...          0.004252       0.005014   \n",
       "2674  30.276525  3324.0867  21.968868    ...          0.004744       0.004252   \n",
       "2675  32.478714  3327.0120  25.731985    ...          0.006522       0.004744   \n",
       "\n",
       "      std20close_l1  std20close_l2  pp20open_l1  pp20open_l2    y      y2  \\\n",
       "2673       0.020638       0.022819    -0.499236    -0.562878  1.0  26.085   \n",
       "2674       0.019287       0.020638    -0.391666    -0.499236 -1.0  -0.523   \n",
       "2675       0.017967       0.019287    -0.159857    -0.391666 -1.0 -20.122   \n",
       "\n",
       "      pred_y      newp  \n",
       "2673      -1  3342.227  \n",
       "2674      -1  3368.312  \n",
       "2675       1  3367.789  \n",
       "\n",
       "[3 rows x 114 columns]"
      ]
     },
     "execution_count": 49,
     "metadata": {},
     "output_type": "execute_result"
    }
   ],
   "source": [
    "test_X.head(3)"
   ]
  },
  {
   "cell_type": "code",
   "execution_count": 50,
   "metadata": {},
   "outputs": [
    {
     "name": "stderr",
     "output_type": "stream",
     "text": [
      "/Users/NeiL/anaconda/lib/python3.6/site-packages/ipykernel_launcher.py:5: SettingWithCopyWarning: \n",
      "A value is trying to be set on a copy of a slice from a DataFrame\n",
      "\n",
      "See the caveats in the documentation: http://pandas.pydata.org/pandas-docs/stable/indexing.html#indexing-view-versus-copy\n",
      "  \"\"\"\n",
      "/Users/NeiL/anaconda/lib/python3.6/site-packages/IPython/core/interactiveshell.py:2963: SettingWithCopyWarning: \n",
      "A value is trying to be set on a copy of a slice from a DataFrame\n",
      "\n",
      "See the caveats in the documentation: http://pandas.pydata.org/pandas-docs/stable/indexing.html#indexing-view-versus-copy\n",
      "  exec(code_obj, self.user_global_ns, self.user_ns)\n",
      "/Users/NeiL/anaconda/lib/python3.6/site-packages/ipykernel_launcher.py:3: SettingWithCopyWarning: \n",
      "A value is trying to be set on a copy of a slice from a DataFrame\n",
      "\n",
      "See the caveats in the documentation: http://pandas.pydata.org/pandas-docs/stable/indexing.html#indexing-view-versus-copy\n",
      "  This is separate from the ipykernel package so we can avoid doing imports until\n"
     ]
    }
   ],
   "source": [
    "for ind in range(2674,2674+len(test_X)-1): \n",
    "    if (test_X.pred_y[ind-1] > 0):\n",
    "        test_X.newp[ind] = test_X.newp[ind-1] * (1+ test_X.vclose[ind])\n",
    "    else:\n",
    "        test_X.newp[ind] = test_X.newp[ind-1]"
   ]
  },
  {
   "cell_type": "code",
   "execution_count": 51,
   "metadata": {},
   "outputs": [
    {
     "data": {
      "text/plain": [
       "Text(0.5,1,'KL ClOSE')"
      ]
     },
     "execution_count": 51,
     "metadata": {},
     "output_type": "execute_result"
    },
    {
     "data": {
      "image/png": "[encoded data removed]",
      "text/plain": [
       "<Figure size 1296x432 with 1 Axes>"
      ]
     },
     "metadata": {},
     "output_type": "display_data"
    }
   ],
   "source": [
    "fig = plt.figure(figsize=(18,6))\n",
    "plt.plot(range(0,test_X.shape[0]),test_X.close)\n",
    "plt.plot(range(0,test_X.shape[0]),test_X.newp)\n",
    "plt.xlim(0,test_X.shape[0])\n",
    "# plt.ylim(test_X.close.min()-50,test_X.close.max()+50)\n",
    "plt.xlabel('Trading Day')\n",
    "plt.title('KL ClOSE')"
   ]
  },
  {
   "cell_type": "markdown",
   "metadata": {},
   "source": [
    "#### Train 是 2007年初到2017年底；Test是2018年"
   ]
  },
  {
   "cell_type": "code",
   "execution_count": 204,
   "metadata": {},
   "outputs": [
    {
     "name": "stdout",
     "output_type": "stream",
     "text": [
      "2\n",
      "[0.5480769230769231, 0.8692461641094062, 10, 2, 1, 5]\n",
      "3\n",
      "[0.6190476190476191, 0.958217270194986, 10, 1, 2, 2]\n",
      "4\n",
      "[0.6216216216216216, 0.9538567493112947, 25, 2, 2, 1]\n",
      "5\n",
      "[0.5952380952380952, 0.9985994397759104, 20, 1, 2, 6]\n"
     ]
    }
   ],
   "source": [
    "from sklearn.ensemble import RandomForestClassifier\n",
    "from sklearn import metrics\n",
    "import math\n",
    "\n",
    "Featurex=[ss[1]]\n",
    "for col in ss[2:6]:\n",
    "    Featurex.append(col)\n",
    "    print(len(Featurex))\n",
    "    X = train_X[Featurex]\n",
    "    tX = test_X[Featurex]\n",
    "\n",
    "    ggg = printrf(X, train_y, tX, test_y, len(Featurex))\n",
    "    print(ggg)\n",
    "#     rf=RandomForestClassifier() \n",
    "#     rf.fit(X, y)\n",
    "#     print(metrics.precision_score(y, rf.predict(X), average='binary'),' ',\n",
    "#           metrics.precision_score(test_y, rf.predict(tX), average='binary'))"
   ]
  },
  {
   "cell_type": "code",
   "execution_count": 205,
   "metadata": {},
   "outputs": [
    {
     "name": "stdout",
     "output_type": "stream",
     "text": [
      "             precision    recall  f1-score   support\n",
      "\n",
      "         -1       0.96      0.95      0.96      1247\n",
      "          1       0.95      0.97      0.96      1429\n",
      "\n",
      "avg / total       0.96      0.96      0.96      2676\n",
      "\n",
      "             precision    recall  f1-score   support\n",
      "\n",
      "         -1       0.68      0.60      0.64       104\n",
      "          1       0.62      0.70      0.66        98\n",
      "\n",
      "avg / total       0.65      0.65      0.65       202\n",
      "\n"
     ]
    }
   ],
   "source": [
    "Featurex=['std5','vstd5_l1','vstd10','std5_l1']\n",
    "X = train_X[Featurex]\n",
    "tX = test_X[Featurex]\n",
    "\n",
    "rf=RandomForestClassifier(n_estimators=25,\n",
    "                              min_samples_leaf=2,     \n",
    "                              max_features=2,\n",
    "                              max_depth=17,\n",
    "                              random_state=0) \n",
    "rf.fit(X, train_y)\n",
    "print(metrics.classification_report(train_y, rf.predict(X)))\n",
    "print(metrics.classification_report(test_y, rf.predict(tX)))"
   ]
  },
  {
   "cell_type": "code",
   "execution_count": 36,
   "metadata": {},
   "outputs": [],
   "source": [
    "import itertools\n",
    "import numpy as np\n",
    "import matplotlib.pyplot as plt\n",
    "from sklearn.metrics import confusion_matrix\n",
    "\n",
    "def plot_confusion_matrix(cm, classes,\n",
    "                          normalize=False,\n",
    "                          title='Confusion matrix',\n",
    "                          cmap=plt.cm.Blues):\n",
    "\n",
    "    if normalize:\n",
    "        cm = cm.astype('float') / cm.sum(axis=1)[:, np.newaxis]\n",
    "        print(\"Normalized confusion matrix\")\n",
    "    else:\n",
    "        print('Confusion matrix, without normalization')\n",
    "\n",
    "    print(cm)\n",
    "\n",
    "    plt.imshow(cm, interpolation='nearest', cmap=cmap)\n",
    "    plt.title(title)\n",
    "    plt.colorbar()\n",
    "    tick_marks = np.arange(len(classes))\n",
    "    plt.xticks(tick_marks, classes, rotation=0)\n",
    "    plt.yticks(tick_marks, classes)\n",
    "\n",
    "    fmt = '.2f' if normalize else 'd'\n",
    "    thresh = cm.max() / 2.\n",
    "    for i, j in itertools.product(range(cm.shape[0]), range(cm.shape[1])):\n",
    "        plt.text(j, i, format(cm[i, j], fmt),\n",
    "                 horizontalalignment=\"center\",\n",
    "                 color=\"white\" if cm[i, j] > thresh else \"black\")\n",
    "\n",
    "    plt.tight_layout()\n",
    "    plt.ylabel('True label')\n",
    "    plt.xlabel('Predicted label')"
   ]
  },
  {
   "cell_type": "code",
   "execution_count": 207,
   "metadata": {},
   "outputs": [
    {
     "name": "stdout",
     "output_type": "stream",
     "text": [
      "Confusion matrix, without normalization\n",
      "[[62 42]\n",
      " [29 69]]\n"
     ]
    },
    {
     "data": {
      "image/png": "[encoded data removed]",
      "text/plain": [
       "<Figure size 432x288 with 2 Axes>"
      ]
     },
     "metadata": {},
     "output_type": "display_data"
    }
   ],
   "source": [
    "pred_y = rf.predict(tX)  # ***\n",
    "\n",
    "# Compute confusion matrix\n",
    "cnf_matrix = confusion_matrix(test_y, pred_y)\n",
    "np.set_printoptions(precision=2)\n",
    "\n",
    "# Plot non-normalized confusion matrix\n",
    "plt.figure()\n",
    "plot_confusion_matrix(cnf_matrix, classes=['-1','1'], title='Confusion matrix')\n",
    "\n",
    "plt.show()"
   ]
  },
  {
   "cell_type": "code",
   "execution_count": 208,
   "metadata": {},
   "outputs": [
    {
     "name": "stderr",
     "output_type": "stream",
     "text": [
      "/Users/NeiL/anaconda/lib/python3.6/site-packages/ipykernel_launcher.py:2: SettingWithCopyWarning: \n",
      "A value is trying to be set on a copy of a slice from a DataFrame.\n",
      "Try using .loc[row_indexer,col_indexer] = value instead\n",
      "\n",
      "See the caveats in the documentation: http://pandas.pydata.org/pandas-docs/stable/indexing.html#indexing-view-versus-copy\n",
      "  \n",
      "/Users/NeiL/anaconda/lib/python3.6/site-packages/ipykernel_launcher.py:3: SettingWithCopyWarning: \n",
      "A value is trying to be set on a copy of a slice from a DataFrame.\n",
      "Try using .loc[row_indexer,col_indexer] = value instead\n",
      "\n",
      "See the caveats in the documentation: http://pandas.pydata.org/pandas-docs/stable/indexing.html#indexing-view-versus-copy\n",
      "  This is separate from the ipykernel package so we can avoid doing imports until\n"
     ]
    }
   ],
   "source": [
    "# 回测\n",
    "test_X['pred_y']= rf.predict(tX)\n",
    "test_X['newp'] = test_X['close']"
   ]
  },
  {
   "cell_type": "code",
   "execution_count": 209,
   "metadata": {},
   "outputs": [
    {
     "name": "stderr",
     "output_type": "stream",
     "text": [
      "/Users/NeiL/anaconda/lib/python3.6/site-packages/ipykernel_launcher.py:5: SettingWithCopyWarning: \n",
      "A value is trying to be set on a copy of a slice from a DataFrame\n",
      "\n",
      "See the caveats in the documentation: http://pandas.pydata.org/pandas-docs/stable/indexing.html#indexing-view-versus-copy\n",
      "  \"\"\"\n",
      "/Users/NeiL/anaconda/lib/python3.6/site-packages/IPython/core/interactiveshell.py:2963: SettingWithCopyWarning: \n",
      "A value is trying to be set on a copy of a slice from a DataFrame\n",
      "\n",
      "See the caveats in the documentation: http://pandas.pydata.org/pandas-docs/stable/indexing.html#indexing-view-versus-copy\n",
      "  exec(code_obj, self.user_global_ns, self.user_ns)\n",
      "/Users/NeiL/anaconda/lib/python3.6/site-packages/ipykernel_launcher.py:3: SettingWithCopyWarning: \n",
      "A value is trying to be set on a copy of a slice from a DataFrame\n",
      "\n",
      "See the caveats in the documentation: http://pandas.pydata.org/pandas-docs/stable/indexing.html#indexing-view-versus-copy\n",
      "  This is separate from the ipykernel package so we can avoid doing imports until\n"
     ]
    }
   ],
   "source": [
    "for ind in range(2918,2918+len(test_X)-1): \n",
    "    if (test_X.pred_y[ind-1] > 0):\n",
    "        test_X.newp[ind] = test_X.newp[ind-1] * (1+ test_X.vclose[ind])\n",
    "    else:\n",
    "        test_X.newp[ind] = test_X.newp[ind-1]"
   ]
  },
  {
   "cell_type": "code",
   "execution_count": 210,
   "metadata": {},
   "outputs": [
    {
     "data": {
      "text/plain": [
       "Text(0.5,1,'KL ClOSE')"
      ]
     },
     "execution_count": 210,
     "metadata": {},
     "output_type": "execute_result"
    },
    {
     "data": {
      "image/png": "[encoded data removed]",
      "text/plain": [
       "<Figure size 1296x432 with 1 Axes>"
      ]
     },
     "metadata": {},
     "output_type": "display_data"
    }
   ],
   "source": [
    "fig = plt.figure(figsize=(18,6))\n",
    "plt.plot(range(0,test_X.shape[0]),test_X.close)\n",
    "plt.plot(range(0,test_X.shape[0]),test_X.newp)\n",
    "plt.xlim(0,test_X.shape[0])\n",
    "# plt.ylim(test_X.close.min()-50,test_X.close.max()+50)\n",
    "plt.xlabel('Trading Day')\n",
    "plt.title('KL ClOSE')"
   ]
  },
  {
   "cell_type": "code",
   "execution_count": null,
   "metadata": {},
   "outputs": [],
   "source": []
  },
  {
   "cell_type": "code",
   "execution_count": 64,
   "metadata": {},
   "outputs": [
    {
     "data": {
      "text/plain": [
       "Text(0.5,1,'KL ClOSE + MA')"
      ]
     },
     "execution_count": 64,
     "metadata": {},
     "output_type": "execute_result"
    },
    {
     "data": {
      "image/png": "[encoded data removed]",
      "text/plain": [
       "<Figure size 1296x432 with 1 Axes>"
      ]
     },
     "metadata": {},
     "output_type": "display_data"
    }
   ],
   "source": [
    "fig = plt.figure(figsize=(18,6))\n",
    "plt.plot(range(0,KL.shape[0]),KL.close)\n",
    "plt.plot(range(0,KL.shape[0]),KL.ma5)\n",
    "# plt.plot(range(0,KL.shape[0]),KL.ma10)\n",
    "plt.plot(range(0,KL.shape[0]),KL.ma20)\n",
    "plt.xlim(0,KL.shape[0])\n",
    "plt.ylim(KL.close.min()-50,KL.close.max()+50)\n",
    "plt.xlabel('Trading Day')\n",
    "plt.title('KL ClOSE + MA')"
   ]
  },
  {
   "cell_type": "code",
   "execution_count": null,
   "metadata": {},
   "outputs": [],
   "source": []
  }
 ],
 "metadata": {
  "kernelspec": {
   "display_name": "Python 3",
   "language": "python",
   "name": "python3"
  },
  "language_info": {
   "codemirror_mode": {
    "name": "ipython",
    "version": 3
   },
   "file_extension": ".py",
   "mimetype": "text/x-python",
   "name": "python",
   "nbconvert_exporter": "python",
   "pygments_lexer": "ipython3",
   "version": "3.6.5"
  }
 },
 "nbformat": 4,
 "nbformat_minor": 2
}
